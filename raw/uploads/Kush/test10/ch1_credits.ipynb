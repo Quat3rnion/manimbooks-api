{
 "cells": [
  {
   "cell_type": "markdown",
   "id": "331983ba-4069-41e4-887f-337236b57c7d",
   "metadata": {
    "slideshow": {
     "slide_type": "slide"
    },
    "tags": []
   },
   "source": [
    "# Credits"
   ]
  },
  {
   "cell_type": "markdown",
   "id": "2058d638-47eb-488d-8ce1-b6e1344c9327",
   "metadata": {},
   "source": [
    "This project has been made possible by the collective efforts of our team and several open-source libraries which are listed below"
   ]
  },
  {
   "cell_type": "markdown",
   "id": "92ed9ac7-9467-4783-8e54-14a6a204a470",
   "metadata": {
    "slideshow": {
     "slide_type": "fragment"
    },
    "tags": []
   },
   "source": [
    "> Special Thanks to Grant Sanderson from [3blue1brown](https://www.youtube.com/channel/UCYO_jab_esuFRV4b17AJtAw) because this would not have been possible without the inspiration of his animated math and his open-source Manim library"
   ]
  },
  {
   "cell_type": "markdown",
   "id": "828ca9c4-c688-4248-9369-f5c74da25e5c",
   "metadata": {
    "slideshow": {
     "slide_type": "slide"
    },
    "tags": []
   },
   "source": [
    "## Manim CE [🔗](https://manim.community/)"
   ]
  },
  {
   "cell_type": "markdown",
   "id": "3801721d-9444-4f9d-9766-22ab8a1e99ae",
   "metadata": {},
   "source": [
    "This is used to render animations from python code blocks"
   ]
  },
  {
   "cell_type": "markdown",
   "id": "f053fd5e-aac9-4851-95bc-a399ceaed11b",
   "metadata": {},
   "source": [
    "## Jupyter Notebooks [🔗](https://jupyter.org/)"
   ]
  },
  {
   "cell_type": "markdown",
   "id": "03c71046-586b-4f1c-89ad-5ae6a18ce65e",
   "metadata": {},
   "source": [
    "This is the format in which publishers can write in, which is later converted into a ManimBook using its nbconvert utility "
   ]
  },
  {
   "cell_type": "markdown",
   "id": "69758a7b-03e4-4ca8-a93b-057629e0926b",
   "metadata": {
    "slideshow": {
     "slide_type": "slide"
    },
    "tags": []
   },
   "source": [
    "## Reveal.js [🔗](https://revealjs.com/)"
   ]
  },
  {
   "cell_type": "markdown",
   "id": "28f0ebb9-e750-4a1d-ad75-3cf421c04346",
   "metadata": {},
   "source": [
    "This is used to create the \"slides\" format of ManimBooks"
   ]
  },
  {
   "cell_type": "markdown",
   "id": "bf23d41a-6672-446b-9142-a727b5a00d6a",
   "metadata": {},
   "source": [
    "## TeXMe [🔗](https://github.com/susam/texme)"
   ]
  },
  {
   "cell_type": "markdown",
   "id": "a51e9f15-5798-4b4d-bc51-4eca0f7cda13",
   "metadata": {},
   "source": [
    "This was used to convert markdown output into the \"scroll\" format of ManimBooks"
   ]
  }
 ],
 "metadata": {
  "kernelspec": {
   "display_name": "Python 3 (ipykernel)",
   "language": "python",
   "name": "python3"
  },
  "language_info": {
   "codemirror_mode": {
    "name": "ipython",
    "version": 3
   },
   "file_extension": ".py",
   "mimetype": "text/x-python",
   "name": "python",
   "nbconvert_exporter": "python",
   "pygments_lexer": "ipython3",
   "version": "3.10.6"
  }
 },
 "nbformat": 4,
 "nbformat_minor": 5
}
